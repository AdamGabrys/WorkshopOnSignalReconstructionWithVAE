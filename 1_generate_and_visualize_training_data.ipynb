{
 "cells": [
  {
   "cell_type": "markdown",
   "metadata": {},
   "source": [
    "## Generate and visualize the training data\n",
    "**For the purpouse of this workshop we will generate synthetical training data which will let us better understand behaviour of the Variational Autoencoder model.**\n",
    "\n",
    "We will experiment with data generated from sinus function which frequency is sampled from Gausian distribution."
   ]
  },
  {
   "cell_type": "code",
   "execution_count": null,
   "metadata": {},
   "outputs": [],
   "source": [
    "%matplotlib inline\n",
    "\n",
    "from ipywidgets import interactive  # To play interactively in Jupyter\n",
    "import matplotlib.pyplot as plt  # To visualize the data\n",
    "import numpy as np\n",
    "\n",
    "from mlss_gdansk2019.SignalGenerator import SignalGenerator  # To generate signals"
   ]
  },
  {
   "cell_type": "code",
   "execution_count": null,
   "metadata": {},
   "outputs": [],
   "source": [
    "# Lets set-up a constant seed for results to be reproducible\n",
    "np.random.seed(45773)"
   ]
  },
  {
   "cell_type": "markdown",
   "metadata": {},
   "source": [
    "### Data Generator\n",
    "For purpose of data generation we will use helper class which generates sinusoidal signals with frequencies and phase shift sampled from Gaussian distribution. We will use this class also in the further sections of this workshop"
   ]
  },
  {
   "cell_type": "code",
   "execution_count": null,
   "metadata": {},
   "outputs": [],
   "source": [
    "# Lets define signal length and number of samples we will generate\n",
    "# We will also define Gaussian standard deviation and mean for both frequency and phase\n",
    "N = 1000\n",
    "sig_len = 50\n",
    "mean_freq = 0.5\n",
    "std_freq = 0.05\n",
    "mean_phase = 3\n",
    "std_phase = 1.5"
   ]
  },
  {
   "cell_type": "code",
   "execution_count": null,
   "metadata": {},
   "outputs": [],
   "source": [
    "# Now generate N signals with given mean and std of gaussian distribution\n",
    "signal_generator = SignalGenerator()\n",
    "frequencies, phase, signals = signal_generator.generate_signals_from_gaussian(length=sig_len, num=N,\n",
    "                                                                              mean_freq=mean_freq, std_freq=std_freq,\n",
    "                                                                              mean_phase=mean_phase, std_phase=std_phase)\n",
    "\n",
    "# Lets take a look at data dimensionality\n",
    "print(frequencies.shape)\n",
    "print(phase.shape)\n",
    "print(signals.shape)"
   ]
  },
  {
   "cell_type": "code",
   "execution_count": null,
   "metadata": {},
   "outputs": [],
   "source": [
    "signal_generator.plot_signals_with_multipliers(frequencies, phase, signals)"
   ]
  },
  {
   "cell_type": "code",
   "execution_count": null,
   "metadata": {},
   "outputs": [],
   "source": [
    "def plot_from_gaussian(mean_frequency, std_frequency, mean_phase, std_phase):\n",
    "    frequencies, phase, signals = signal_generator.generate_signals_from_gaussian(length=sig_len, num=N,\n",
    "                                                                                  mean_freq=mean_frequency, std_freq=std_frequency,\n",
    "                                                                                  mean_phase=mean_phase, std_phase=std_phase)\n",
    "    signal_generator.plot_signals_with_multipliers(frequencies, phase, signals)\n",
    "\n",
    "interactive_plot = interactive(plot_from_gaussian, \n",
    "                               mean_frequency=(-1., 1.), std_frequency=(0.0, .5, 0.01),\n",
    "                               mean_phase=(-5., 5.), std_phase=(0.0, 5, 0.1),)\n",
    "output = interactive_plot.children[-1]\n",
    "interactive_plot"
   ]
  },
  {
   "cell_type": "code",
   "execution_count": null,
   "metadata": {},
   "outputs": [],
   "source": []
  }
 ],
 "metadata": {
  "kernelspec": {
   "display_name": "Python 3",
   "language": "python",
   "name": "python3"
  },
  "language_info": {
   "codemirror_mode": {
    "name": "ipython",
    "version": 3
   },
   "file_extension": ".py",
   "mimetype": "text/x-python",
   "name": "python",
   "nbconvert_exporter": "python",
   "pygments_lexer": "ipython3",
   "version": "3.7.0"
  }
 },
 "nbformat": 4,
 "nbformat_minor": 2
}
