{
 "cells": [
  {
   "cell_type": "markdown",
   "metadata": {},
   "source": [
    "## Signal Reconstruction and Lattent space\n",
    "In this notebook we will play with signal reconstruction and lattent space variables"
   ]
  },
  {
   "cell_type": "code",
   "execution_count": null,
   "metadata": {},
   "outputs": [],
   "source": [
    "%matplotlib inline\n",
    "\n",
    "import matplotlib.pyplot as plt\n",
    "from ipywidgets import interactive\n",
    "import numpy as np\n",
    "import mxnet.ndarray as nd\n",
    "  \n",
    "from mlss_gdansk2019.SignalGenerator import SignalGenerator\n",
    "from mlss_gdansk2019.SinBayesianAutoEncoderModel import SinBayesianAutoEncoder\n",
    "from mlss_gdansk2019 import plot_utils \n",
    "\n",
    "np.random.seed(12234)"
   ]
  },
  {
   "cell_type": "markdown",
   "metadata": {},
   "source": [
    "### First we load Bayesian autoencoder we have trained"
   ]
  },
  {
   "cell_type": "code",
   "execution_count": null,
   "metadata": {},
   "outputs": [],
   "source": [
    "sin_bae = SinBayesianAutoEncoder()\n",
    "sin_bae.load_parameters(\"model/model.params\")"
   ]
  },
  {
   "cell_type": "markdown",
   "metadata": {},
   "source": [
    "### Lets generate signal with 0.8 HZ frequency"
   ]
  },
  {
   "cell_type": "code",
   "execution_count": null,
   "metadata": {},
   "outputs": [],
   "source": [
    "signal = np.sin(np.arange(0, 50) * 0.16 * np.pi)"
   ]
  },
  {
   "cell_type": "markdown",
   "metadata": {},
   "source": [
    "### Pass the signal through the network and reconstruct it. "
   ]
  },
  {
   "cell_type": "markdown",
   "metadata": {},
   "source": [
    "We will set teacher_forcing_prob to 0, since during infeerence we do not know what was the actual signal we want to infer. For now we wouldn't override latent space value for signal predicted by the model "
   ]
  },
  {
   "cell_type": "code",
   "execution_count": null,
   "metadata": {},
   "outputs": [],
   "source": [
    "teacher_forcing_prob = 0\n",
    "latent_space_override = None\n",
    "auto_encoder_output = sin_bae(nd.array([signal]), teacher_forcing_prob, latent_space_override)\n",
    "\n",
    "estimated_latent_space_vals = auto_encoder_output.latent_space_val[0].asnumpy()\n",
    "reconstructed_signal = auto_encoder_output.decoded_signal[0].asnumpy()"
   ]
  },
  {
   "cell_type": "code",
   "execution_count": null,
   "metadata": {},
   "outputs": [],
   "source": [
    "plot_utils.plot_signals(signal, reconstructed_signal, estimated_latent_space_vals)"
   ]
  },
  {
   "cell_type": "markdown",
   "metadata": {},
   "source": [
    "As you see in terms of frequencies both signals overlap very well, and this is what we have expected.\n",
    "\n",
    "### Now we can try to modify lattent space varialbe to reconstruct the signal"
   ]
  },
  {
   "cell_type": "code",
   "execution_count": null,
   "metadata": {},
   "outputs": [],
   "source": [
    "teacher_forcing_prob = 0\n",
    "latent_space_override = nd.array([-1.5, -1.5]).reshape(1,2)\n",
    "auto_encoder_output = sin_bae(nd.array([signal]), teacher_forcing_prob, latent_space_override)\n",
    "\n",
    "estimated_latent_space_vals = auto_encoder_output.latent_space_val[0].asnumpy()\n",
    "reconstructed_signal = auto_encoder_output.decoded_signal[0].asnumpy()\n",
    "\n",
    "plot_utils.plot_signals(signal, reconstructed_signal, estimated_latent_space_vals)"
   ]
  },
  {
   "cell_type": "markdown",
   "metadata": {},
   "source": [
    "### Lets now process more signalss through the network and visualize the latent space"
   ]
  },
  {
   "cell_type": "code",
   "execution_count": null,
   "metadata": {},
   "outputs": [],
   "source": [
    "signal_generator = SignalGenerator()\n",
    "frequencies, phase, signals = signal_generator.generate_signals(length=50, num=200)\n",
    "signal_generator.plot_signals_with_multipliers(frequencies, phase, signals)"
   ]
  },
  {
   "cell_type": "markdown",
   "metadata": {},
   "source": [
    "### Process signals through the network and visualize predicted lattent space values"
   ]
  },
  {
   "cell_type": "markdown",
   "metadata": {},
   "source": [
    "Lets take a look how does Gaussian latent space looks for signals we have processed through the model "
   ]
  },
  {
   "cell_type": "code",
   "execution_count": null,
   "metadata": {},
   "outputs": [],
   "source": [
    "teacher_forcing_prob = 0\n",
    "latent_space_override = None\n",
    "auto_encoder_output = sin_bae(nd.array(signals), teacher_forcing_prob, latent_space_override)\n",
    "latent_space = auto_encoder_output.latent_space_val.asnumpy()\n",
    "plot_utils.plot_histograms(latent_space)"
   ]
  },
  {
   "cell_type": "code",
   "execution_count": null,
   "metadata": {},
   "outputs": [],
   "source": [
    "plot_utils.plot_latent_space(latent_space=latent_space, phase=phase, frequencies=frequencies)"
   ]
  },
  {
   "cell_type": "markdown",
   "metadata": {},
   "source": [
    "This is entangled!!\n",
    "\n",
    "Play on your own to see how model behaves dependently on latent space value."
   ]
  },
  {
   "cell_type": "code",
   "execution_count": null,
   "metadata": {},
   "outputs": [],
   "source": [
    "def f(lv_1, lv_2):\n",
    "    teacher_forcing_prob = 0\n",
    "    latent_space_override = nd.array([lv_1, lv_2]).reshape(1, 2)\n",
    "    auto_encoder_output = sin_bae(nd.array(signals),\n",
    "                                  teacher_forcing_prob,\n",
    "                                  latent_space_override)\n",
    "    signal = signals[0, :]\n",
    "    latent_space = auto_encoder_output.latent_space_val[0].asnumpy()\n",
    "    decoded_signal = auto_encoder_output.decoded_signal[0, :].asnumpy()\n",
    "    plot_utils.plot_signals(signal, decoded_signal, latent_space)\n",
    "    "
   ]
  },
  {
   "cell_type": "code",
   "execution_count": null,
   "metadata": {},
   "outputs": [],
   "source": [
    "interactive_plot = interactive(f, lv_1=(-2., 2.), lv_2=(-2., 2.))\n",
    "output = interactive_plot.children[-1]\n",
    "output.layout.height = '350px'\n",
    "interactive_plot"
   ]
  },
  {
   "cell_type": "code",
   "execution_count": null,
   "metadata": {},
   "outputs": [],
   "source": []
  }
 ],
 "metadata": {
  "kernelspec": {
   "display_name": "Python 3",
   "language": "python",
   "name": "python3"
  },
  "language_info": {
   "codemirror_mode": {
    "name": "ipython",
    "version": 3
   },
   "file_extension": ".py",
   "mimetype": "text/x-python",
   "name": "python",
   "nbconvert_exporter": "python",
   "pygments_lexer": "ipython3",
   "version": "3.7.0"
  }
 },
 "nbformat": 4,
 "nbformat_minor": 2
}
